{
  "nbformat": 4,
  "nbformat_minor": 0,
  "metadata": {
    "accelerator": "GPU",
    "colab": {
      "name": "Category_Predictor.ipynb",
      "provenance": [],
      "collapsed_sections": []
    },
    "kernelspec": {
      "display_name": "Python 3",
      "language": "python",
      "name": "python3"
    },
    "language_info": {
      "codemirror_mode": {
        "name": "ipython",
        "version": 3
      },
      "file_extension": ".py",
      "mimetype": "text/x-python",
      "name": "python",
      "nbconvert_exporter": "python",
      "pygments_lexer": "ipython3",
      "version": "3.6.9"
    }
  },
  "cells": [
    {
      "cell_type": "code",
      "metadata": {
        "colab_type": "code",
        "id": "q878VCRhf17I",
        "outputId": "3669e7d3-3271-4acc-b5fe-5a994393d877",
        "colab": {
          "base_uri": "https://localhost:8080/",
          "height": 193
        }
      },
      "source": [
        "import numpy as np\n",
        "import pandas as pd\n",
        "import warnings\n",
        "import seaborn as sn\n",
        "\n",
        "warnings.filterwarnings('ignore')\n",
        "import nltk\n",
        "nltk.download('stopwords')\n",
        "\n",
        "data = pd.read_csv('BBC News Train.csv', \n",
        "                          encoding = 'iso-8859-1')\n",
        "print('There are', len(data), 'data points.')\n",
        "data.head(3)"
      ],
      "execution_count": 1,
      "outputs": [
        {
          "output_type": "stream",
          "text": [
            "[nltk_data] Downloading package stopwords to /root/nltk_data...\n",
            "[nltk_data]   Unzipping corpora/stopwords.zip.\n",
            "There are 1490 data points.\n"
          ],
          "name": "stdout"
        },
        {
          "output_type": "execute_result",
          "data": {
            "text/html": [
              "<div>\n",
              "<style scoped>\n",
              "    .dataframe tbody tr th:only-of-type {\n",
              "        vertical-align: middle;\n",
              "    }\n",
              "\n",
              "    .dataframe tbody tr th {\n",
              "        vertical-align: top;\n",
              "    }\n",
              "\n",
              "    .dataframe thead th {\n",
              "        text-align: right;\n",
              "    }\n",
              "</style>\n",
              "<table border=\"1\" class=\"dataframe\">\n",
              "  <thead>\n",
              "    <tr style=\"text-align: right;\">\n",
              "      <th></th>\n",
              "      <th>ArticleId</th>\n",
              "      <th>Text</th>\n",
              "      <th>Category</th>\n",
              "    </tr>\n",
              "  </thead>\n",
              "  <tbody>\n",
              "    <tr>\n",
              "      <th>0</th>\n",
              "      <td>1833</td>\n",
              "      <td>worldcom ex-boss launches defence lawyers defe...</td>\n",
              "      <td>business</td>\n",
              "    </tr>\n",
              "    <tr>\n",
              "      <th>1</th>\n",
              "      <td>154</td>\n",
              "      <td>german business confidence slides german busin...</td>\n",
              "      <td>business</td>\n",
              "    </tr>\n",
              "    <tr>\n",
              "      <th>2</th>\n",
              "      <td>1101</td>\n",
              "      <td>bbc poll indicates economic gloom citizens in ...</td>\n",
              "      <td>business</td>\n",
              "    </tr>\n",
              "  </tbody>\n",
              "</table>\n",
              "</div>"
            ],
            "text/plain": [
              "   ArticleId                                               Text  Category\n",
              "0       1833  worldcom ex-boss launches defence lawyers defe...  business\n",
              "1        154  german business confidence slides german busin...  business\n",
              "2       1101  bbc poll indicates economic gloom citizens in ...  business"
            ]
          },
          "metadata": {
            "tags": []
          },
          "execution_count": 1
        }
      ]
    },
    {
      "cell_type": "code",
      "metadata": {
        "id": "o-emeF_R_mgQ",
        "colab_type": "code",
        "outputId": "2081035e-112d-4dfb-8c72-8be2940a80ab",
        "colab": {
          "base_uri": "https://localhost:8080/",
          "height": 34
        }
      },
      "source": [
        "print(data.shape)"
      ],
      "execution_count": 2,
      "outputs": [
        {
          "output_type": "stream",
          "text": [
            "(1490, 3)\n"
          ],
          "name": "stdout"
        }
      ]
    },
    {
      "cell_type": "code",
      "metadata": {
        "id": "YUOcuX-NEKjQ",
        "colab_type": "code",
        "outputId": "faeb2c7a-9363-4d41-a7ed-00386e801ebd",
        "colab": {
          "base_uri": "https://localhost:8080/",
          "height": 119
        }
      },
      "source": [
        "data['Category'].value_counts()"
      ],
      "execution_count": 3,
      "outputs": [
        {
          "output_type": "execute_result",
          "data": {
            "text/plain": [
              "sport            346\n",
              "business         336\n",
              "politics         274\n",
              "entertainment    273\n",
              "tech             261\n",
              "Name: Category, dtype: int64"
            ]
          },
          "metadata": {
            "tags": []
          },
          "execution_count": 3
        }
      ]
    },
    {
      "cell_type": "code",
      "metadata": {
        "id": "VBYv59HX6pBp",
        "colab_type": "code",
        "colab": {
          "base_uri": "https://localhost:8080/",
          "height": 296
        },
        "outputId": "f425d3e6-b3d1-4e1c-c1d3-e77b00a9a08d"
      },
      "source": [
        "import seaborn as sns\n",
        "\n",
        "%matplotlib inline\n",
        "\n",
        "sns.countplot(x='Category', data=data)\n",
        "\n"
      ],
      "execution_count": 4,
      "outputs": [
        {
          "output_type": "execute_result",
          "data": {
            "text/plain": [
              "<matplotlib.axes._subplots.AxesSubplot at 0x7f27632cfb38>"
            ]
          },
          "metadata": {
            "tags": []
          },
          "execution_count": 4
        },
        {
          "output_type": "display_data",
          "data": {
            "image/png": "[encoded data removed]",
            "text/plain": [
              "<Figure size 432x288 with 1 Axes>"
            ]
          },
          "metadata": {
            "tags": []
          }
        }
      ]
    },
    {
      "cell_type": "code",
      "metadata": {
        "colab_type": "code",
        "id": "7FWAL-PRASHV",
        "outputId": "955b6d83-7931-400c-8a5f-038e1dd465f4",
        "colab": {
          "base_uri": "https://localhost:8080/",
          "height": 119
        }
      },
      "source": [
        "# Calculate the percentage of each data \n",
        "\n",
        "per = round((data['Category'].value_counts()*100))/len(data)\n",
        "print(per)"
      ],
      "execution_count": 5,
      "outputs": [
        {
          "output_type": "stream",
          "text": [
            "sport            23.221477\n",
            "business         22.550336\n",
            "politics         18.389262\n",
            "entertainment    18.322148\n",
            "tech             17.516779\n",
            "Name: Category, dtype: float64\n"
          ],
          "name": "stdout"
        }
      ]
    },
    {
      "cell_type": "code",
      "metadata": {
        "id": "xu4h8ogGAaFX",
        "colab_type": "code",
        "outputId": "55619a45-084b-404f-eec6-e70a86362846",
        "colab": {
          "base_uri": "https://localhost:8080/",
          "height": 250
        }
      },
      "source": [
        "import matplotlib.pyplot as plt\n",
        "\n",
        "# Data to plot\n",
        "labels = 'Sport', 'Business', 'Politics', 'Entertainment', 'Tech'\n",
        "sizes = per\n",
        "colors = ['gold', 'yellowgreen', 'lightcoral', 'lightskyblue', 'green']\n",
        "explode = (0.1, 0.1, 0.1, 0.1, 0.1)  # explode 1st slice\n",
        "\n",
        "# Plot\n",
        "plt.pie(sizes, explode=explode, labels=labels, colors=colors,\n",
        "autopct='%1.1f%%', shadow=True, startangle=140)\n",
        "\n",
        "plt.axis('equal')\n",
        "plt.show()"
      ],
      "execution_count": 0,
      "outputs": [
        {
          "output_type": "display_data",
          "data": {
            "image/png": "[encoded data removed]",
            "text/plain": [
              "<Figure size 432x288 with 1 Axes>"
            ]
          },
          "metadata": {
            "tags": []
          }
        }
      ]
    },
    {
      "cell_type": "code",
      "metadata": {
        "colab_type": "code",
        "id": "BFYNrpE4f17j",
        "outputId": "9ec84585-a62c-4fcf-b87a-c13903e707f4",
        "colab": {
          "base_uri": "https://localhost:8080/",
          "height": 204
        }
      },
      "source": [
        "from sklearn import preprocessing\n",
        "le = preprocessing.LabelEncoder()\n",
        "le.fit(list(data.Category.unique()))\n",
        "data['label'] = le.transform(list(data.Category.values))\n",
        "#data.head()\n",
        "data.sample(5, random_state=0)"
      ],
      "execution_count": 0,
      "outputs": [
        {
          "output_type": "execute_result",
          "data": {
            "text/html": [
              "<div>\n",
              "<style scoped>\n",
              "    .dataframe tbody tr th:only-of-type {\n",
              "        vertical-align: middle;\n",
              "    }\n",
              "\n",
              "    .dataframe tbody tr th {\n",
              "        vertical-align: top;\n",
              "    }\n",
              "\n",
              "    .dataframe thead th {\n",
              "        text-align: right;\n",
              "    }\n",
              "</style>\n",
              "<table border=\"1\" class=\"dataframe\">\n",
              "  <thead>\n",
              "    <tr style=\"text-align: right;\">\n",
              "      <th></th>\n",
              "      <th>ArticleId</th>\n",
              "      <th>Text</th>\n",
              "      <th>Category</th>\n",
              "      <th>label</th>\n",
              "    </tr>\n",
              "  </thead>\n",
              "  <tbody>\n",
              "    <tr>\n",
              "      <th>9</th>\n",
              "      <td>1866</td>\n",
              "      <td>fockers fuel festive film chart comedy meet th...</td>\n",
              "      <td>entertainment</td>\n",
              "      <td>1</td>\n",
              "    </tr>\n",
              "    <tr>\n",
              "      <th>354</th>\n",
              "      <td>1349</td>\n",
              "      <td>tory candidate quits over remark a conservativ...</td>\n",
              "      <td>politics</td>\n",
              "      <td>2</td>\n",
              "    </tr>\n",
              "    <tr>\n",
              "      <th>1227</th>\n",
              "      <td>1572</td>\n",
              "      <td>bath faced with tindall ultimatum mike tindall...</td>\n",
              "      <td>sport</td>\n",
              "      <td>3</td>\n",
              "    </tr>\n",
              "    <tr>\n",
              "      <th>907</th>\n",
              "      <td>1155</td>\n",
              "      <td>chancellor rallies labour voters gordon brown ...</td>\n",
              "      <td>politics</td>\n",
              "      <td>2</td>\n",
              "    </tr>\n",
              "    <tr>\n",
              "      <th>575</th>\n",
              "      <td>307</td>\n",
              "      <td>young debut cut short by ginepri fifteen-year-...</td>\n",
              "      <td>sport</td>\n",
              "      <td>3</td>\n",
              "    </tr>\n",
              "  </tbody>\n",
              "</table>\n",
              "</div>"
            ],
            "text/plain": [
              "      ArticleId  ... label\n",
              "9          1866  ...     1\n",
              "354        1349  ...     2\n",
              "1227       1572  ...     3\n",
              "907        1155  ...     2\n",
              "575         307  ...     3\n",
              "\n",
              "[5 rows x 4 columns]"
            ]
          },
          "metadata": {
            "tags": []
          },
          "execution_count": 44
        }
      ]
    },
    {
      "cell_type": "code",
      "metadata": {
        "colab_type": "code",
        "id": "a1i7sg36f17q",
        "outputId": "03b66854-5744-482d-dbfa-085e3adc27b7",
        "colab": {
          "base_uri": "https://localhost:8080/",
          "height": 102
        }
      },
      "source": [
        "for i, label in enumerate(le.classes_):\n",
        "    print(i, ':', label)"
      ],
      "execution_count": 0,
      "outputs": [
        {
          "output_type": "stream",
          "text": [
            "0 : business\n",
            "1 : entertainment\n",
            "2 : politics\n",
            "3 : sport\n",
            "4 : tech\n"
          ],
          "name": "stdout"
        }
      ]
    },
    {
      "cell_type": "code",
      "metadata": {
        "id": "AZGMlxf341zw",
        "colab_type": "code",
        "colab": {}
      },
      "source": [
        "import re, string\n",
        "from nltk.corpus import stopwords\n",
        "\n",
        "def processnews(news):\n",
        "\n",
        "    news = news.lower()    \n",
        "    #Remove Special charaters and urls\n",
        "    news = re.sub('((www\\.[^\\s]+)|(https?://[^\\s]+))', '', news)    \n",
        "    #Remove usernames\n",
        "    news = re.sub('@[^\\s]+','',news)    \n",
        "    #Remove white space\n",
        "    news = news.strip()    \n",
        "    #Remove hashtags\n",
        "    news = re.sub(r'#([^\\s]+)', '', news)   \n",
        "    #Remove stopwords\n",
        "    news = \" \".join([word for word in news.split(' ') if word not in stopwords.words('english')])\n",
        "    #Remove punctuation\n",
        "    news = \"\".join(l for l in news if l not in string.punctuation)\n",
        "    \n",
        "    return news\n",
        "\n",
        "data['text_preprocessed'] = data['Text'].map(lambda x: processnews(x))"
      ],
      "execution_count": 0,
      "outputs": []
    },
    {
      "cell_type": "code",
      "metadata": {
        "colab_type": "code",
        "id": "d3R-0Pd_mdz3",
        "outputId": "379c437b-52f6-4da3-a80b-4e236e6912a4",
        "colab": {
          "base_uri": "https://localhost:8080/",
          "height": 410
        }
      },
      "source": [
        "data.head(10)\n",
        "#data.sample(5, random_state=0)"
      ],
      "execution_count": 0,
      "outputs": [
        {
          "output_type": "execute_result",
          "data": {
            "text/html": [
              "<div>\n",
              "<style scoped>\n",
              "    .dataframe tbody tr th:only-of-type {\n",
              "        vertical-align: middle;\n",
              "    }\n",
              "\n",
              "    .dataframe tbody tr th {\n",
              "        vertical-align: top;\n",
              "    }\n",
              "\n",
              "    .dataframe thead th {\n",
              "        text-align: right;\n",
              "    }\n",
              "</style>\n",
              "<table border=\"1\" class=\"dataframe\">\n",
              "  <thead>\n",
              "    <tr style=\"text-align: right;\">\n",
              "      <th></th>\n",
              "      <th>ArticleId</th>\n",
              "      <th>Text</th>\n",
              "      <th>Category</th>\n",
              "      <th>label</th>\n",
              "      <th>text_preprocessed</th>\n",
              "    </tr>\n",
              "  </thead>\n",
              "  <tbody>\n",
              "    <tr>\n",
              "      <th>0</th>\n",
              "      <td>1833</td>\n",
              "      <td>worldcom ex-boss launches defence lawyers defe...</td>\n",
              "      <td>business</td>\n",
              "      <td>0</td>\n",
              "      <td>worldcom exboss launches defence lawyers defen...</td>\n",
              "    </tr>\n",
              "    <tr>\n",
              "      <th>1</th>\n",
              "      <td>154</td>\n",
              "      <td>german business confidence slides german busin...</td>\n",
              "      <td>business</td>\n",
              "      <td>0</td>\n",
              "      <td>german business confidence slides german busin...</td>\n",
              "    </tr>\n",
              "    <tr>\n",
              "      <th>2</th>\n",
              "      <td>1101</td>\n",
              "      <td>bbc poll indicates economic gloom citizens in ...</td>\n",
              "      <td>business</td>\n",
              "      <td>0</td>\n",
              "      <td>bbc poll indicates economic gloom citizens maj...</td>\n",
              "    </tr>\n",
              "    <tr>\n",
              "      <th>3</th>\n",
              "      <td>1976</td>\n",
              "      <td>lifestyle  governs mobile choice  faster  bett...</td>\n",
              "      <td>tech</td>\n",
              "      <td>4</td>\n",
              "      <td>lifestyle  governs mobile choice  faster  bett...</td>\n",
              "    </tr>\n",
              "    <tr>\n",
              "      <th>4</th>\n",
              "      <td>917</td>\n",
              "      <td>enron bosses in $168m payout eighteen former e...</td>\n",
              "      <td>business</td>\n",
              "      <td>0</td>\n",
              "      <td>enron bosses 168m payout eighteen former enron...</td>\n",
              "    </tr>\n",
              "    <tr>\n",
              "      <th>5</th>\n",
              "      <td>1582</td>\n",
              "      <td>howard  truanted to play snooker  conservative...</td>\n",
              "      <td>politics</td>\n",
              "      <td>2</td>\n",
              "      <td>howard  truanted play snooker  conservative le...</td>\n",
              "    </tr>\n",
              "    <tr>\n",
              "      <th>6</th>\n",
              "      <td>651</td>\n",
              "      <td>wales silent on grand slam talk rhys williams ...</td>\n",
              "      <td>sport</td>\n",
              "      <td>3</td>\n",
              "      <td>wales silent grand slam talk rhys williams say...</td>\n",
              "    </tr>\n",
              "    <tr>\n",
              "      <th>7</th>\n",
              "      <td>1797</td>\n",
              "      <td>french honour for director parker british film...</td>\n",
              "      <td>entertainment</td>\n",
              "      <td>1</td>\n",
              "      <td>french honour director parker british film dir...</td>\n",
              "    </tr>\n",
              "    <tr>\n",
              "      <th>8</th>\n",
              "      <td>2034</td>\n",
              "      <td>car giant hit by mercedes slump a slump in pro...</td>\n",
              "      <td>business</td>\n",
              "      <td>0</td>\n",
              "      <td>car giant hit mercedes slump slump profitabili...</td>\n",
              "    </tr>\n",
              "    <tr>\n",
              "      <th>9</th>\n",
              "      <td>1866</td>\n",
              "      <td>fockers fuel festive film chart comedy meet th...</td>\n",
              "      <td>entertainment</td>\n",
              "      <td>1</td>\n",
              "      <td>fockers fuel festive film chart comedy meet fo...</td>\n",
              "    </tr>\n",
              "  </tbody>\n",
              "</table>\n",
              "</div>"
            ],
            "text/plain": [
              "   ArticleId  ...                                  text_preprocessed\n",
              "0       1833  ...  worldcom exboss launches defence lawyers defen...\n",
              "1        154  ...  german business confidence slides german busin...\n",
              "2       1101  ...  bbc poll indicates economic gloom citizens maj...\n",
              "3       1976  ...  lifestyle  governs mobile choice  faster  bett...\n",
              "4        917  ...  enron bosses 168m payout eighteen former enron...\n",
              "5       1582  ...  howard  truanted play snooker  conservative le...\n",
              "6        651  ...  wales silent grand slam talk rhys williams say...\n",
              "7       1797  ...  french honour director parker british film dir...\n",
              "8       2034  ...  car giant hit mercedes slump slump profitabili...\n",
              "9       1866  ...  fockers fuel festive film chart comedy meet fo...\n",
              "\n",
              "[10 rows x 5 columns]"
            ]
          },
          "metadata": {
            "tags": []
          },
          "execution_count": 47
        }
      ]
    },
    {
      "cell_type": "markdown",
      "metadata": {
        "id": "cYz5tTJW8894",
        "colab_type": "text"
      },
      "source": [
        "First the baseline accuracy:"
      ]
    },
    {
      "cell_type": "code",
      "metadata": {
        "colab_type": "code",
        "id": "4_uVq4OVf18E",
        "outputId": "503b1bc4-367a-4387-bd79-c948b33eb0dc",
        "colab": {
          "base_uri": "https://localhost:8080/",
          "height": 119
        }
      },
      "source": [
        "data['label'].value_counts()/len(data)"
      ],
      "execution_count": 0,
      "outputs": [
        {
          "output_type": "execute_result",
          "data": {
            "text/plain": [
              "3    0.232215\n",
              "0    0.225503\n",
              "2    0.183893\n",
              "1    0.183221\n",
              "4    0.175168\n",
              "Name: label, dtype: float64"
            ]
          },
          "metadata": {
            "tags": []
          },
          "execution_count": 48
        }
      ]
    },
    {
      "cell_type": "code",
      "metadata": {
        "id": "1dp-0Hgs-qJY",
        "colab_type": "code",
        "outputId": "da5a1b7d-3d97-4775-f986-b7a19935e14d",
        "colab": {
          "base_uri": "https://localhost:8080/",
          "height": 119
        }
      },
      "source": [
        "#CountVectorizer +\n",
        "from sklearn.feature_extraction.text import CountVectorizer\n",
        "text = data['text_preprocessed'].values\n",
        "vectorizer = CountVectorizer(ngram_range = (1, 2))\n",
        "vectorizer.fit(text)"
      ],
      "execution_count": 0,
      "outputs": [
        {
          "output_type": "execute_result",
          "data": {
            "text/plain": [
              "CountVectorizer(analyzer='word', binary=False, decode_error='strict',\n",
              "                dtype=<class 'numpy.int64'>, encoding='utf-8', input='content',\n",
              "                lowercase=True, max_df=1.0, max_features=None, min_df=1,\n",
              "                ngram_range=(1, 2), preprocessor=None, stop_words=None,\n",
              "                strip_accents=None, token_pattern='(?u)\\\\b\\\\w\\\\w+\\\\b',\n",
              "                tokenizer=None, vocabulary=None)"
            ]
          },
          "metadata": {
            "tags": []
          },
          "execution_count": 49
        }
      ]
    },
    {
      "cell_type": "code",
      "metadata": {
        "id": "57h1iw7N-zNQ",
        "colab_type": "code",
        "outputId": "e33b8c0b-440d-44e1-f2f0-3bc0c6aaa68b",
        "colab": {
          "base_uri": "https://localhost:8080/",
          "height": 34
        }
      },
      "source": [
        "from sklearn.model_selection import train_test_split\n",
        "X = vectorizer.transform(text)\n",
        "y = data['label'].values\n",
        "X_train, X_test, y_train, y_test = train_test_split(X, y, test_size=0.2)\n",
        "print(X_test.shape)"
      ],
      "execution_count": 0,
      "outputs": [
        {
          "output_type": "stream",
          "text": [
            "(298, 269143)\n"
          ],
          "name": "stdout"
        }
      ]
    },
    {
      "cell_type": "code",
      "metadata": {
        "colab_type": "code",
        "id": "kHdGHXjmuUt1",
        "outputId": "f559dd5e-00c0-4454-bc6f-d9542bb18c18",
        "colab": {
          "base_uri": "https://localhost:8080/",
          "height": 34
        }
      },
      "source": [
        "#tf idf approach\n",
        "\n",
        "from sklearn.feature_extraction.text import TfidfVectorizer \n",
        "from sklearn.model_selection import train_test_split\n",
        "\n",
        "text = data['text_preprocessed'].values\n",
        "tfidfconverter = TfidfVectorizer(max_features=5000, min_df=5, max_df=0.7, stop_words=stopwords.words('english'))  \n",
        "X = tfidfconverter.fit_transform(text).toarray()\n",
        "y = data['label'].values\n",
        "X_train, X_test, y_train, y_test = train_test_split(X, y, test_size=0.2, random_state=0)\n",
        "print(X_test.shape)"
      ],
      "execution_count": 0,
      "outputs": [
        {
          "output_type": "stream",
          "text": [
            "(298, 5000)\n"
          ],
          "name": "stdout"
        }
      ]
    },
    {
      "cell_type": "code",
      "metadata": {
        "id": "lFs0Lqh3oIIv",
        "colab_type": "code",
        "outputId": "8cd99605-71c2-40ec-98a0-561a6b06857d",
        "colab": {
          "base_uri": "https://localhost:8080/",
          "height": 1000
        }
      },
      "source": [
        "from sklearn.naive_bayes import MultinomialNB\n",
        "from sklearn.ensemble import RandomForestClassifier\n",
        "from sklearn.svm import SVC\n",
        "from sklearn.metrics import confusion_matrix\n",
        "from sklearn.metrics import classification_report\n",
        "import matplotlib.pyplot as plt\n",
        "from mlxtend.plotting import plot_confusion_matrix\n",
        "%matplotlib inline\n",
        "\n",
        "labels = ['Business', 'Entermnt' , 'Politics' , 'Sport' , 'Technology']\n",
        "\n",
        "clfs = {\n",
        "        'NB': MultinomialNB(), \n",
        "        'RF': RandomForestClassifier()\n",
        "        }\n",
        "\n",
        "def test_clf(clf_dict, Xtrain, ytrain):\n",
        "    for clf_name, clf in clf_dict.items():\n",
        "\n",
        "        #training\n",
        "        classifier = clf.fit(Xtrain, ytrain)\n",
        "        print(clf_name,':', clf.score(X_test, y_test))\n",
        "        \n",
        "        #predictions test set\n",
        "        predictions = classifier.predict(X_test)\n",
        "\n",
        "        #confusion matrix\n",
        "        cm = confusion_matrix(y_test, predictions)\n",
        "        \n",
        "        fig, ax = plot_confusion_matrix(conf_mat = cm,colorbar=True)\n",
        "        fig.set_size_inches(5,5)\n",
        "        plt.title('Confusion Matrix',fontsize='large', fontweight='bold')\n",
        "        ax.set_xticklabels([''] + labels,rotation=45)\n",
        "        ax.set_yticklabels([''] + labels)\n",
        "        plt.xlabel('Predicted Category',fontsize='large', fontweight='bold')\n",
        "        plt.ylabel('Actual Category',fontsize='large', fontweight='bold')\n",
        "        plt.show()\n",
        "\n",
        "        #classification report\n",
        "        cr = classification_report(y_test, predictions)\n",
        "        print(cr)\n",
        "\n",
        "        \n",
        "test_clf(clfs, X_train, y_train)"
      ],
      "execution_count": 0,
      "outputs": [
        {
          "output_type": "stream",
          "text": [
            "NB : 0.9731543624161074\n"
          ],
          "name": "stdout"
        },
        {
          "output_type": "display_data",
          "data": {
            "image/png": "[encoded data removed]",
            "text/plain": [
              "<Figure size 360x360 with 2 Axes>"
            ]
          },
          "metadata": {
            "tags": []
          }
        },
        {
          "output_type": "stream",
          "text": [
            "              precision    recall  f1-score   support\n",
            "\n",
            "           0       0.97      0.98      0.98        64\n",
            "           1       0.97      0.97      0.97        63\n",
            "           2       0.96      0.98      0.97        53\n",
            "           3       1.00      1.00      1.00        65\n",
            "           4       0.96      0.92      0.94        53\n",
            "\n",
            "    accuracy                           0.97       298\n",
            "   macro avg       0.97      0.97      0.97       298\n",
            "weighted avg       0.97      0.97      0.97       298\n",
            "\n",
            "RF : 0.9328859060402684\n"
          ],
          "name": "stdout"
        },
        {
          "output_type": "display_data",
          "data": {
            "image/png": "[encoded data removed]",
            "text/plain": [
              "<Figure size 360x360 with 2 Axes>"
            ]
          },
          "metadata": {
            "tags": []
          }
        },
        {
          "output_type": "stream",
          "text": [
            "              precision    recall  f1-score   support\n",
            "\n",
            "           0       0.93      0.89      0.91        64\n",
            "           1       0.94      0.97      0.95        63\n",
            "           2       0.92      0.91      0.91        53\n",
            "           3       0.94      0.98      0.96        65\n",
            "           4       0.92      0.91      0.91        53\n",
            "\n",
            "    accuracy                           0.93       298\n",
            "   macro avg       0.93      0.93      0.93       298\n",
            "weighted avg       0.93      0.93      0.93       298\n",
            "\n"
          ],
          "name": "stdout"
        }
      ]
    }
  ]
}